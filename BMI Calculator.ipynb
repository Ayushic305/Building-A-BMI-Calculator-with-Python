{
 "cells": [
  {
   "cell_type": "code",
   "execution_count": 4,
   "id": "c13967e6",
   "metadata": {},
   "outputs": [
    {
     "name": "stdout",
     "output_type": "stream",
     "text": [
      "please enter your name:Ayushi\n",
      "please enter your weight in pounds:145\n",
      "please enter your height in inches:64\n",
      "24.886474609375\n",
      "Ayushi,You are normal weight.\n"
     ]
    }
   ],
   "source": [
    "name = input(\"please enter your name:\")\n",
    "\n",
    "weight = int(input(\"please enter your weight in pounds:\"))\n",
    "\n",
    "height = int(input(\"please enter your height in inches:\"))\n",
    "\n",
    "BMI = (weight * 703) / (height * height)\n",
    "\n",
    "print(BMI)\n",
    "\n",
    "if BMI > 0:\n",
    "    if BMI <= 18.5:\n",
    "        print(name + \",You are under weight.\")\n",
    "    elif BMI <= 24.9:\n",
    "        print(name + \",You are normal weight.\")\n",
    "    elif BMI <= 29.9:\n",
    "        print(name + \",You are overweight.\")\n",
    "    elif BMI <= 34.9:\n",
    "        print(name + \",You are obese.\")\n",
    "    elif BMI <= 39.9:\n",
    "        print(name + \",You are severely obese.\")\n",
    "    elif BMI <= 40:\n",
    "        print(name + \",You are morbidly obese.\")\n",
    "    else:\n",
    "        print(\"Enter valid input.\")\n",
    "\n"
   ]
  },
  {
   "cell_type": "code",
   "execution_count": null,
   "id": "b0aa8bf2",
   "metadata": {},
   "outputs": [],
   "source": [
    "#BMI = (weights in pounds x 703) / (height in inches x height in inches)"
   ]
  },
  {
   "cell_type": "code",
   "execution_count": null,
   "id": "7da8d899",
   "metadata": {},
   "outputs": [],
   "source": [
    "BMI\tWeight Status\n",
    "Below 18.5  Underweight\n",
    "18.5 – 24.9 Healthy Weight\n",
    "25.0 – 29.9 Overweight\n",
    "30.0 - 34.9 Obese\n",
    "35.0 - 39.9 Severely Obese\n",
    "40 and over Morbidly Obese\n"
   ]
  }
 ],
 "metadata": {
  "kernelspec": {
   "display_name": "Python 3 (ipykernel)",
   "language": "python",
   "name": "python3"
  },
  "language_info": {
   "codemirror_mode": {
    "name": "ipython",
    "version": 3
   },
   "file_extension": ".py",
   "mimetype": "text/x-python",
   "name": "python",
   "nbconvert_exporter": "python",
   "pygments_lexer": "ipython3",
   "version": "3.11.3"
  }
 },
 "nbformat": 4,
 "nbformat_minor": 5
}
